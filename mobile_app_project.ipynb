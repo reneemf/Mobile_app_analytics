{
 "cells": [
  {
   "cell_type": "markdown",
   "metadata": {
    "collapsed": true
   },
   "source": [
    "# Profitable apps within the Google Play store and the Apple iOS app store\n",
    "\n",
    "- I aim to identify which types of apps attract the most users\n",
    "    - Mobile app analytics allows for development of apps which will attract high user engagement, increasing app revenue\n",
    "\n",
    "- There are approximately 2 million iOS apps available on the App Store and 2.1 million Android apps on the Google Play store (Sept. 2018)\n",
    "    - Android holds about 53.2% of the smartphone market, while iOS is 43%\n",
    "    \n",
    "- To understand which apps attract users in both markets I will analyze two freely available data sets:\n",
    "    - Google Play Store Apps\n",
    "        - This data set contains more than 10,000 Google Play mobile applications details\n",
    "        - Web scraping tools were used to extract data from the Google Play store\n",
    "        - You can download this data set [here](https://www.kaggle.com/lava18/google-play-store-apps)\n",
    "        \n",
    "    - Mobile App Statistics (Apple iOS app store)\n",
    "        - This data set contains more than 7,000 Apple iOS mobile applications details\n",
    "        - R and linux web scraping tools were used to extract data from the iTunes Search API at the Apple Inc website\n",
    "        - You can download this data set [here](https://www.kaggle.com/ramamet4/app-store-apple-data-set-10k-apps)\n",
    "\n",
    "-----\n",
    "\n",
    "I will begin with opening each data set, followed by data exploration, cleaning, and analysis."
   ]
  },
  {
   "cell_type": "code",
   "execution_count": 25,
   "metadata": {
    "collapsed": true
   },
   "outputs": [],
   "source": [
    "from csv import reader\n",
    "\n",
    "## Apple iOS app store dataset\n",
    "open_apple = open('AppleStore.csv')\n",
    "apple_list = list(reader(open_apple))\n",
    "apple_list_header = apple_list[0] \n",
    "apple_list = apple_list[1:] # store the data set without the header\n",
    "\n",
    "##Google Play store dataset\n",
    "open_google = open('googleplaystore.csv')\n",
    "from csv import reader\n",
    "google_list = list(reader(open_google))\n",
    "google_list_header = google_list[0]\n",
    "google_list = google_list[1:] # store the data set without the header"
   ]
  },
  {
   "cell_type": "markdown",
   "metadata": {},
   "source": [
    "The `explore_data()` function breaks up the rows of each data set to print them in a more readable way. This function can also be used to print the number of rows and columns of each data set."
   ]
  },
  {
   "cell_type": "code",
   "execution_count": 26,
   "metadata": {
    "collapsed": false
   },
   "outputs": [],
   "source": [
    "def explore_data(dataset, start, end, rows_and_columns=False):\n",
    "    dataset_slice = dataset[start:end]    \n",
    "    for row in dataset_slice:\n",
    "        print(row)\n",
    "        print('\\n') # adds a new (empty) line after each row\n",
    "\n",
    "    if rows_and_columns:\n",
    "        print('Number of rows:', len(dataset))\n",
    "        print('Number of columns:', len(dataset[0]))"
   ]
  },
  {
   "cell_type": "code",
   "execution_count": 27,
   "metadata": {
    "collapsed": false
   },
   "outputs": [
    {
     "name": "stdout",
     "output_type": "stream",
     "text": [
      "Apple iOS app store:\n",
      "\n",
      "\n",
      "['id', 'track_name', 'size_bytes', 'currency', 'price', 'rating_count_tot', 'rating_count_ver', 'user_rating', 'user_rating_ver', 'ver', 'cont_rating', 'prime_genre', 'sup_devices.num', 'ipadSc_urls.num', 'lang.num', 'vpp_lic']\n",
      "\n",
      "\n",
      "['284882215', 'Facebook', '389879808', 'USD', '0.0', '2974676', '212', '3.5', '3.5', '95.0', '4+', 'Social Networking', '37', '1', '29', '1']\n",
      "\n",
      "\n",
      "['389801252', 'Instagram', '113954816', 'USD', '0.0', '2161558', '1289', '4.5', '4.0', '10.23', '12+', 'Photo & Video', '37', '0', '29', '1']\n",
      "\n",
      "\n",
      "['529479190', 'Clash of Clans', '116476928', 'USD', '0.0', '2130805', '579', '4.5', '4.5', '9.24.12', '9+', 'Games', '38', '5', '18', '1']\n",
      "\n",
      "\n",
      "Number of rows: 7197\n",
      "Number of columns: 16\n"
     ]
    }
   ],
   "source": [
    "print('Apple iOS app store:')\n",
    "print('\\n')\n",
    "print(apple_list_header)\n",
    "print('\\n')\n",
    "explore_data(apple_list,0,3, True)"
   ]
  },
  {
   "cell_type": "markdown",
   "metadata": {},
   "source": [
    "We see that the Apple iOS app store contains 16 columns and 7197 apps. \n",
    "\n",
    "I expect to predominately use the track_name, price, rating_count_tot, user_rating, cont_rating, and prime_genre columns in this analysis. Details about each column can be found in the data set [documentation](https://www.kaggle.com/ramamet4/app-store-apple-data-set-10k-apps)."
   ]
  },
  {
   "cell_type": "code",
   "execution_count": 28,
   "metadata": {
    "collapsed": false
   },
   "outputs": [
    {
     "name": "stdout",
     "output_type": "stream",
     "text": [
      "Google Play Store:\n",
      "\n",
      "\n",
      "['App', 'Category', 'Rating', 'Reviews', 'Size', 'Installs', 'Type', 'Price', 'Content Rating', 'Genres', 'Last Updated', 'Current Ver', 'Android Ver']\n",
      "\n",
      "\n",
      "['Photo Editor & Candy Camera & Grid & ScrapBook', 'ART_AND_DESIGN', '4.1', '159', '19M', '10,000+', 'Free', '0', 'Everyone', 'Art & Design', 'January 7, 2018', '1.0.0', '4.0.3 and up']\n",
      "\n",
      "\n",
      "['Coloring book moana', 'ART_AND_DESIGN', '3.9', '967', '14M', '500,000+', 'Free', '0', 'Everyone', 'Art & Design;Pretend Play', 'January 15, 2018', '2.0.0', '4.0.3 and up']\n",
      "\n",
      "\n",
      "['U Launcher Lite – FREE Live Cool Themes, Hide Apps', 'ART_AND_DESIGN', '4.7', '87510', '8.7M', '5,000,000+', 'Free', '0', 'Everyone', 'Art & Design', 'August 1, 2018', '1.2.4', '4.0.3 and up']\n",
      "\n",
      "\n",
      "Number of rows: 10841\n",
      "Number of columns: 13\n"
     ]
    }
   ],
   "source": [
    "print('Google Play Store:')\n",
    "print('\\n')\n",
    "print(google_list_header)\n",
    "print('\\n')\n",
    "explore_data(google_list,0,3, True)"
   ]
  },
  {
   "cell_type": "markdown",
   "metadata": {},
   "source": [
    "We see that the Google Play store contains 13 columns and 10841 apps. \n",
    "\n",
    "I expect to predominately use the App, Category, Rating, Reviews, Type, Price, Content Rating, and Genres columns in this analysis. Details about each column can be found in the data set [documentation](https://www.kaggle.com/lava18/google-play-store-apps)."
   ]
  },
  {
   "cell_type": "markdown",
   "metadata": {},
   "source": [
    "## Deleting Wrong Data\n",
    "\n",
    "- Both data sets have dedicated discussion sections\n",
    "- The Google Play store data set discussions have identified an error for row 10472 \n",
    "\n",
    "Below I will print this row and compare it to the header and another row that is correct."
   ]
  },
  {
   "cell_type": "code",
   "execution_count": 29,
   "metadata": {
    "collapsed": false
   },
   "outputs": [
    {
     "name": "stdout",
     "output_type": "stream",
     "text": [
      "['Life Made WI-Fi Touchscreen Photo Frame', '1.9', '19', '3.0M', '1,000+', 'Free', '0', 'Everyone', '', 'February 11, 2018', '1.0.19', '4.0 and up']\n",
      "\n",
      "\n",
      "['App', 'Category', 'Rating', 'Reviews', 'Size', 'Installs', 'Type', 'Price', 'Content Rating', 'Genres', 'Last Updated', 'Current Ver', 'Android Ver']\n",
      "\n",
      "\n",
      "['Photo Editor & Candy Camera & Grid & ScrapBook', 'ART_AND_DESIGN', '4.1', '159', '19M', '10,000+', 'Free', '0', 'Everyone', 'Art & Design', 'January 7, 2018', '1.0.0', '4.0.3 and up']\n"
     ]
    }
   ],
   "source": [
    "print(google_list[10472]) # incorrect row\n",
    "print('\\n')\n",
    "print(google_list_header)  # header\n",
    "print('\\n')\n",
    "print(google_list[0]) # correct row as example"
   ]
  },
  {
   "cell_type": "markdown",
   "metadata": {},
   "source": [
    "The row 10472 contains the app \"Life Made WI-Fi Touchscreen Photo Frame\" and the rating is listed as 19. The maximum rating for a Google Play app is 5, so this must be incorrect, and I will remove this row. I will print the number of rows `len()` of the Google Play store data set prior to and after deleting this row to allow for comparison, and ensure that only one row was removed."
   ]
  },
  {
   "cell_type": "code",
   "execution_count": 30,
   "metadata": {
    "collapsed": false
   },
   "outputs": [
    {
     "name": "stdout",
     "output_type": "stream",
     "text": [
      "10841\n",
      "10840\n",
      "\n",
      "\n",
      "['osmino Wi-Fi: free WiFi', 'TOOLS', '4.2', '134203', '4.1M', '10,000,000+', 'Free', '0', 'Everyone', 'Tools', 'August 7, 2018', '6.06.14', '4.4 and up']\n"
     ]
    }
   ],
   "source": [
    "print(len(google_list))\n",
    "#del(google_list[10472]) # only run this code once \n",
    "print(len(google_list))\n",
    "print('\\n')\n",
    "print(google_list[10472])"
   ]
  },
  {
   "cell_type": "markdown",
   "metadata": {},
   "source": [
    "# Removing Duplicate Entries\n",
    "\n",
    "The Google Play store data set discussions have also indicated that some apps have been given more than one entry. I will check this hypothesis using Twitter and Instagram, apps that regularly push out updates, and were first added to the store approx. 10 years ago."
   ]
  },
  {
   "cell_type": "code",
   "execution_count": 35,
   "metadata": {
    "collapsed": false,
    "scrolled": true
   },
   "outputs": [
    {
     "name": "stdout",
     "output_type": "stream",
     "text": [
      "['Twitter', 'NEWS_AND_MAGAZINES', '4.3', '11667403', 'Varies with device', '500,000,000+', 'Free', '0', 'Mature 17+', 'News & Magazines', 'August 6, 2018', 'Varies with device', 'Varies with device']\n",
      "['Twitter', 'NEWS_AND_MAGAZINES', '4.3', '11667403', 'Varies with device', '500,000,000+', 'Free', '0', 'Mature 17+', 'News & Magazines', 'August 6, 2018', 'Varies with device', 'Varies with device']\n",
      "['Twitter', 'NEWS_AND_MAGAZINES', '4.3', '11657972', 'Varies with device', '500,000,000+', 'Free', '0', 'Mature 17+', 'News & Magazines', 'July 30, 2018', 'Varies with device', 'Varies with device']\n",
      "\n",
      "\n",
      "['Instagram', 'SOCIAL', '4.5', '66577313', 'Varies with device', '1,000,000,000+', 'Free', '0', 'Teen', 'Social', 'July 31, 2018', 'Varies with device', 'Varies with device']\n",
      "['Instagram', 'SOCIAL', '4.5', '66577446', 'Varies with device', '1,000,000,000+', 'Free', '0', 'Teen', 'Social', 'July 31, 2018', 'Varies with device', 'Varies with device']\n",
      "['Instagram', 'SOCIAL', '4.5', '66577313', 'Varies with device', '1,000,000,000+', 'Free', '0', 'Teen', 'Social', 'July 31, 2018', 'Varies with device', 'Varies with device']\n",
      "['Instagram', 'SOCIAL', '4.5', '66509917', 'Varies with device', '1,000,000,000+', 'Free', '0', 'Teen', 'Social', 'July 31, 2018', 'Varies with device', 'Varies with device']\n"
     ]
    }
   ],
   "source": [
    "for app in google_list:\n",
    "    name = app[0]\n",
    "    if name == 'Twitter':\n",
    "        print(app)\n",
    "print('\\n')\n",
    "for app in google_list:\n",
    "    name = app[0]\n",
    "    if name == 'Instagram':\n",
    "        print(app)"
   ]
  },
  {
   "cell_type": "markdown",
   "metadata": {},
   "source": [
    "As hypothesized, some apps have more than one entry within the Google Play sotre data set. To begin removal of these apps I count the number of duplicates and list some examples below. Although the Apple iOS app store data set disscusions did not mention any duplicates in the data, I will include it in the analysis below just in case."
   ]
  },
  {
   "cell_type": "code",
   "execution_count": 10,
   "metadata": {
    "collapsed": false
   },
   "outputs": [],
   "source": [
    "def duplicate_search(app_list):\n",
    "    duplicate_apps = []\n",
    "    unique_apps = []\n",
    "\n",
    "    for each_line in app_list:\n",
    "        name = each_line[0]\n",
    "        if name in unique_apps:\n",
    "            duplicate_apps.append(name)\n",
    "        else:\n",
    "            unique_apps.append(name)\n",
    "    return duplicate_apps\n",
    "    return unique_apps"
   ]
  },
  {
   "cell_type": "code",
   "execution_count": 11,
   "metadata": {
    "collapsed": false,
    "scrolled": true
   },
   "outputs": [
    {
     "name": "stdout",
     "output_type": "stream",
     "text": [
      "Number of duplicate apps in Google Play store: 1181\n",
      "\n",
      "\n",
      "Examples of duplicate apps in Google Play store: ['Quick PDF Scanner + OCR FREE', 'Box', 'Google My Business', 'ZOOM Cloud Meetings', 'join.me - Simple Meetings', 'Box', 'Zenefits', 'Google Ads', 'Google My Business', 'Slack', 'FreshBooks Classic', 'Insightly CRM', 'QuickBooks Accounting: Invoicing & Expenses', 'HipChat - Chat Built for Teams', 'Xero Accounting Software']\n"
     ]
    }
   ],
   "source": [
    "google_duplicates = duplicate_search(google_list)\n",
    "\n",
    "print('Number of duplicate apps in Google Play store:', len(google_duplicates))\n",
    "print('\\n')\n",
    "print('Examples of duplicate apps in Google Play store:', google_duplicates[:15])"
   ]
  },
  {
   "cell_type": "code",
   "execution_count": null,
   "metadata": {
    "collapsed": true
   },
   "outputs": [],
   "source": [
    "In total, there are 1,181 cases where an app occurs more than once within the Google Play store."
   ]
  },
  {
   "cell_type": "code",
   "execution_count": 12,
   "metadata": {
    "collapsed": false
   },
   "outputs": [
    {
     "name": "stdout",
     "output_type": "stream",
     "text": [
      "Number of duplicate apps in App store: 0\n",
      "\n",
      "\n",
      "Examples of duplicate apps in App store: []\n"
     ]
    }
   ],
   "source": [
    "apple_duplicates = duplicate_search(apple_list)\n",
    "print('Number of duplicate apps in Apple iOS store:', len(apple_duplicates))\n",
    "print('\\n')\n",
    "print('Examples of duplicate apps in Apple iOS store:', apple_duplicates[:15])"
   ]
  },
  {
   "cell_type": "markdown",
   "metadata": {
    "collapsed": false
   },
   "source": [
    "No cases of duplicate apps were found in the Apple iOS app store.\n",
    "\n",
    "To avoid counting some apps more than once during analysis, I will remove the duplicate entries found in the Google Play store data set, keeping only one entry per app. Looking at the Twitter app entries printed above, each line differs in either column 4 and/or column 11 which correspond to the number of reviews and the date of the last update respectively. As column 4 differs more regularly I will be using it to determine which duplicate to keep, and which to remove. The entry with the highest number of reviews will be kept as it is likely the most recent entry, and as the number of reviews increases, so too does the reliability of the associated rating.\n",
    "\n",
    "\n",
    "To facilitate this I will create a dictionary `reviews_max` where each key is a unique app name, and the value is the highest number of reviews of that app. I will then use this dictionary to create a new data set, containing only one entry per app."
   ]
  },
  {
   "cell_type": "code",
   "execution_count": 36,
   "metadata": {
    "collapsed": false
   },
   "outputs": [],
   "source": [
    "reviews_max = {}\n",
    "for each_line in google_list:\n",
    "    name = each_line[0]\n",
    "    n_reviews = float(each_line[3])\n",
    "    if name in reviews_max and reviews_max[name] < n_reviews:\n",
    "        reviews_max[name] = n_reviews\n",
    "    elif name not in reviews_max:\n",
    "        reviews_max[name] = n_reviews"
   ]
  },
  {
   "cell_type": "markdown",
   "metadata": {},
   "source": [
    "I found previously that there are 1,181 app duplications, so the length of `reviews_max` should equal the difference between the length of the Google Play app store data set, and 1,181."
   ]
  },
  {
   "cell_type": "code",
   "execution_count": 37,
   "metadata": {
    "collapsed": false
   },
   "outputs": [
    {
     "name": "stdout",
     "output_type": "stream",
     "text": [
      "Expected length of Google Play store list: 9659\n",
      "Actual length of Google Play store list: 9659\n"
     ]
    }
   ],
   "source": [
    "print('Expected length of Google Play store list:', len(google_list) - 1181)\n",
    "print('Actual length of Google Play store list:', len(reviews_max))"
   ]
  },
  {
   "cell_type": "markdown",
   "metadata": {},
   "source": [
    "I will use `reviews_max` to remove the Google Play store data set duplicates, keeping only the entries with the highest number of reviews.\n",
    "\n",
    "To do so I will initialize two empty lists, `google_clean` and `already_added`, loop through the Google Play data set, and for every entry isolate the name of the app and the number of reviews.\n",
    "\n",
    "Each entry will be added to the google_clean list, and the corresponding app name to the already_added list if:\n",
    "- The number of reviews of the current app matches the number of reviews of that app within the reviews_max dictionary and\n",
    "- The name of the app is not already in the already_added list\n",
    "    - This supplementary condition accounts for cases where the highest number of reviews of a duplicate app is the same for more than one entry"
   ]
  },
  {
   "cell_type": "code",
   "execution_count": 40,
   "metadata": {
    "collapsed": true
   },
   "outputs": [],
   "source": [
    "google_clean = []\n",
    "already_added = []\n",
    "for each_entry in google_list:\n",
    "    name = each_entry[0]\n",
    "    n_reviews = float(each_entry[3])\n",
    "    if n_reviews == reviews_max[name] and name not in already_added:\n",
    "        google_clean.append(each_entry)\n",
    "        already_added.append(name)"
   ]
  },
  {
   "cell_type": "markdown",
   "metadata": {},
   "source": [
    "The google_clean list is expected to now have 9659 entries. "
   ]
  },
  {
   "cell_type": "code",
   "execution_count": 41,
   "metadata": {
    "collapsed": false
   },
   "outputs": [
    {
     "name": "stdout",
     "output_type": "stream",
     "text": [
      "['Photo Editor & Candy Camera & Grid & ScrapBook', 'ART_AND_DESIGN', '4.1', '159', '19M', '10,000+', 'Free', '0', 'Everyone', 'Art & Design', 'January 7, 2018', '1.0.0', '4.0.3 and up']\n",
      "\n",
      "\n",
      "['U Launcher Lite – FREE Live Cool Themes, Hide Apps', 'ART_AND_DESIGN', '4.7', '87510', '8.7M', '5,000,000+', 'Free', '0', 'Everyone', 'Art & Design', 'August 1, 2018', '1.2.4', '4.0.3 and up']\n",
      "\n",
      "\n",
      "['Sketch - Draw & Paint', 'ART_AND_DESIGN', '4.5', '215644', '25M', '50,000,000+', 'Free', '0', 'Teen', 'Art & Design', 'June 8, 2018', 'Varies with device', '4.2 and up']\n",
      "\n",
      "\n",
      "Number of rows: 9659\n",
      "Number of columns: 13\n"
     ]
    }
   ],
   "source": [
    "explore_data(google_clean, 0, 3, True)"
   ]
  },
  {
   "cell_type": "markdown",
   "metadata": {
    "collapsed": true
   },
   "source": [
    "# Removing Non-English Apps\n",
    "\n",
    "x"
   ]
  },
  {
   "cell_type": "code",
   "execution_count": null,
   "metadata": {
    "collapsed": true
   },
   "outputs": [],
   "source": []
  }
 ],
 "metadata": {
  "kernelspec": {
   "display_name": "Python 3",
   "language": "python",
   "name": "python3"
  },
  "language_info": {
   "codemirror_mode": {
    "name": "ipython",
    "version": 3
   },
   "file_extension": ".py",
   "mimetype": "text/x-python",
   "name": "python",
   "nbconvert_exporter": "python",
   "pygments_lexer": "ipython3",
   "version": "3.4.3"
  }
 },
 "nbformat": 4,
 "nbformat_minor": 2
}
